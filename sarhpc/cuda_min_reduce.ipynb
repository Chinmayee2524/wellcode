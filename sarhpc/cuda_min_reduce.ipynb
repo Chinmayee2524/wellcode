{
  "nbformat": 4,
  "nbformat_minor": 0,
  "metadata": {
    "colab": {
      "provenance": []
    },
    "kernelspec": {
      "name": "python3",
      "display_name": "Python 3"
    },
    "language_info": {
      "name": "python"
    }
  },
  "cells": [
    {
      "cell_type": "code",
      "execution_count": null,
      "metadata": {
        "colab": {
          "base_uri": "https://localhost:8080/"
        },
        "id": "Hu5mPfSFdU21",
        "outputId": "8e0c9b99-a24b-4e94-d042-4cb80f1201c6"
      },
      "outputs": [
        {
          "output_type": "stream",
          "name": "stdout",
          "text": [
            "nvcc: NVIDIA (R) Cuda compiler driver\n",
            "Copyright (c) 2005-2024 NVIDIA Corporation\n",
            "Built on Thu_Jun__6_02:18:23_PDT_2024\n",
            "Cuda compilation tools, release 12.5, V12.5.82\n",
            "Build cuda_12.5.r12.5/compiler.34385749_0\n"
          ]
        }
      ],
      "source": [
        "!nvcc --version  # correct double dash\n"
      ]
    },
    {
      "cell_type": "code",
      "source": [
        "!pip install git+https://github.com/andreinechaev/nvcc4jupyter.git\n"
      ],
      "metadata": {
        "colab": {
          "base_uri": "https://localhost:8080/"
        },
        "id": "vNbNvMkQdiae",
        "outputId": "99d0cb72-1f70-48b7-83bb-81af0fecfbff"
      },
      "execution_count": null,
      "outputs": [
        {
          "output_type": "stream",
          "name": "stdout",
          "text": [
            "Collecting git+https://github.com/andreinechaev/nvcc4jupyter.git\n",
            "  Cloning https://github.com/andreinechaev/nvcc4jupyter.git to /tmp/pip-req-build-pka_yq4r\n",
            "  Running command git clone --filter=blob:none --quiet https://github.com/andreinechaev/nvcc4jupyter.git /tmp/pip-req-build-pka_yq4r\n",
            "  Resolved https://github.com/andreinechaev/nvcc4jupyter.git to commit 28f872a2f99a1b201bcd0db14fdbc5a496b9bfd7\n",
            "  Installing build dependencies ... \u001b[?25l\u001b[?25hdone\n",
            "  Getting requirements to build wheel ... \u001b[?25l\u001b[?25hdone\n",
            "  Preparing metadata (pyproject.toml) ... \u001b[?25l\u001b[?25hdone\n",
            "Building wheels for collected packages: nvcc4jupyter\n",
            "  Building wheel for nvcc4jupyter (pyproject.toml) ... \u001b[?25l\u001b[?25hdone\n",
            "  Created wheel for nvcc4jupyter: filename=nvcc4jupyter-1.2.1-py3-none-any.whl size=10742 sha256=fdb30b442a03a2b978d94f242f4f3839c3b517111d4c5bcc31496f40b5aacbba\n",
            "  Stored in directory: /tmp/pip-ephem-wheel-cache-rpvsjvcr/wheels/ef/1d/c6/f7e47f1aa1bc9d05c4120d94f90a79cf28603ef343b0dd43ff\n",
            "Successfully built nvcc4jupyter\n",
            "Installing collected packages: nvcc4jupyter\n",
            "Successfully installed nvcc4jupyter-1.2.1\n"
          ]
        }
      ]
    },
    {
      "cell_type": "code",
      "source": [
        "%load_ext nvcc4jupyter\n"
      ],
      "metadata": {
        "colab": {
          "base_uri": "https://localhost:8080/"
        },
        "id": "pQ9ERY-qdlNr",
        "outputId": "ceddec73-2f0a-4fb6-bb68-5a1e10f3667e"
      },
      "execution_count": null,
      "outputs": [
        {
          "output_type": "stream",
          "name": "stdout",
          "text": [
            "Detected platform \"Colab\". Running its setup...\n",
            "Source files will be saved in \"/tmp/tmpy4hhxxr2\".\n"
          ]
        }
      ]
    },
    {
      "cell_type": "code",
      "source": [
        "code = r'''\n",
        "#include <stdio.h>\n",
        "#include <cuda.h>\n",
        "\n",
        "__global__ void minReduce(int* input, int n) {\n",
        "    int tid = threadIdx.x;\n",
        "    int step_size = 1;\n",
        "    int num_threads = blockDim.x;\n",
        "\n",
        "    while (num_threads > 0) {\n",
        "        int fst = tid * step_size * 2;\n",
        "        int snd = fst + step_size;\n",
        "\n",
        "        if (tid < num_threads && snd < n) {\n",
        "            if (input[fst] > input[snd]) {\n",
        "                input[fst] = input[snd];\n",
        "            }\n",
        "        }\n",
        "\n",
        "        __syncthreads();\n",
        "        step_size <<= 1;\n",
        "        num_threads >>= 1;\n",
        "    }\n",
        "}\n",
        "\n",
        "int main() {\n",
        "    const int count = 8;\n",
        "    const int size = count * sizeof(int);\n",
        "    int h[count] = {13, 65, 15, 14, 33, 23, 30, 4};\n",
        "\n",
        "    int* d;\n",
        "    cudaMalloc(&d, size);\n",
        "    cudaMemcpy(d, h, size, cudaMemcpyHostToDevice);\n",
        "\n",
        "    minReduce<<<1, count / 2>>>(d, count);\n",
        "\n",
        "    int result;\n",
        "    cudaMemcpy(&result, d, sizeof(int), cudaMemcpyDeviceToHost);\n",
        "    printf(\"Smallest number is: %d\\n\", result);\n",
        "\n",
        "    cudaFree(d);\n",
        "    return 0;\n",
        "}\n",
        "'''\n",
        "\n",
        "with open('min_reduce.cu', 'w') as f:\n",
        "    f.write(code)\n"
      ],
      "metadata": {
        "id": "e29YDWx2do3A"
      },
      "execution_count": null,
      "outputs": []
    },
    {
      "cell_type": "code",
      "source": [
        "!nvcc min_reduce.cu -o min_reduce\n"
      ],
      "metadata": {
        "id": "dT_WNugOdrej"
      },
      "execution_count": null,
      "outputs": []
    },
    {
      "cell_type": "code",
      "source": [
        "!./min_reduce\n"
      ],
      "metadata": {
        "colab": {
          "base_uri": "https://localhost:8080/"
        },
        "id": "u4aHqsYJdtrC",
        "outputId": "95fde462-7937-4ae0-d9f5-8b96826fd07d"
      },
      "execution_count": null,
      "outputs": [
        {
          "output_type": "stream",
          "name": "stdout",
          "text": [
            "Smallest number is: 4\n"
          ]
        }
      ]
    },
    {
      "cell_type": "code",
      "source": [],
      "metadata": {
        "id": "1OOvv45Fdwq1"
      },
      "execution_count": null,
      "outputs": []
    }
  ]
}