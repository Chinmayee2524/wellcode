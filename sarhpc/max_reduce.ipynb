{
  "nbformat": 4,
  "nbformat_minor": 0,
  "metadata": {
    "colab": {
      "provenance": [],
      "gpuType": "T4"
    },
    "kernelspec": {
      "name": "python3",
      "display_name": "Python 3"
    },
    "language_info": {
      "name": "python"
    },
    "accelerator": "GPU"
  },
  "cells": [
    {
      "cell_type": "code",
      "execution_count": null,
      "metadata": {
        "colab": {
          "base_uri": "https://localhost:8080/"
        },
        "id": "nonG0RNYbkhf",
        "outputId": "49d165ee-b341-456a-d37c-18b48fcb5638"
      },
      "outputs": [
        {
          "output_type": "stream",
          "name": "stdout",
          "text": [
            "nvcc: NVIDIA (R) Cuda compiler driver\n",
            "Copyright (c) 2005-2024 NVIDIA Corporation\n",
            "Built on Thu_Jun__6_02:18:23_PDT_2024\n",
            "Cuda compilation tools, release 12.5, V12.5.82\n",
            "Build cuda_12.5.r12.5/compiler.34385749_0\n"
          ]
        }
      ],
      "source": [
        "!nvcc --version  # correct double dash"
      ]
    },
    {
      "cell_type": "code",
      "source": [
        "!pip install git+https://github.com/andreinechaev/nvcc4jupyter.git\n"
      ],
      "metadata": {
        "colab": {
          "base_uri": "https://localhost:8080/"
        },
        "id": "d9gGnmO4btFn",
        "outputId": "f2bdcc69-b128-4c9d-a5af-34820eeb0b85"
      },
      "execution_count": null,
      "outputs": [
        {
          "output_type": "stream",
          "name": "stdout",
          "text": [
            "Collecting git+https://github.com/andreinechaev/nvcc4jupyter.git\n",
            "  Cloning https://github.com/andreinechaev/nvcc4jupyter.git to /tmp/pip-req-build-13_y2r1j\n",
            "  Running command git clone --filter=blob:none --quiet https://github.com/andreinechaev/nvcc4jupyter.git /tmp/pip-req-build-13_y2r1j\n",
            "  Resolved https://github.com/andreinechaev/nvcc4jupyter.git to commit 28f872a2f99a1b201bcd0db14fdbc5a496b9bfd7\n",
            "  Installing build dependencies ... \u001b[?25l\u001b[?25hdone\n",
            "  Getting requirements to build wheel ... \u001b[?25l\u001b[?25hdone\n",
            "  Preparing metadata (pyproject.toml) ... \u001b[?25l\u001b[?25hdone\n",
            "Building wheels for collected packages: nvcc4jupyter\n",
            "  Building wheel for nvcc4jupyter (pyproject.toml) ... \u001b[?25l\u001b[?25hdone\n",
            "  Created wheel for nvcc4jupyter: filename=nvcc4jupyter-1.2.1-py3-none-any.whl size=10742 sha256=fdb30b442a03a2b978d94f242f4f3839c3b517111d4c5bcc31496f40b5aacbba\n",
            "  Stored in directory: /tmp/pip-ephem-wheel-cache-x72hj19y/wheels/ef/1d/c6/f7e47f1aa1bc9d05c4120d94f90a79cf28603ef343b0dd43ff\n",
            "Successfully built nvcc4jupyter\n",
            "Installing collected packages: nvcc4jupyter\n",
            "Successfully installed nvcc4jupyter-1.2.1\n"
          ]
        }
      ]
    },
    {
      "cell_type": "code",
      "source": [
        "%load_ext nvcc4jupyter\n"
      ],
      "metadata": {
        "colab": {
          "base_uri": "https://localhost:8080/"
        },
        "id": "jHNkt6_XbyPh",
        "outputId": "4098baeb-5fce-4579-a8aa-5314c90cd268"
      },
      "execution_count": null,
      "outputs": [
        {
          "output_type": "stream",
          "name": "stdout",
          "text": [
            "Detected platform \"Colab\". Running its setup...\n",
            "Source files will be saved in \"/tmp/tmphcrz9dly\".\n"
          ]
        }
      ]
    },
    {
      "cell_type": "code",
      "source": [
        "code = r'''\n",
        "#include <stdio.h>\n",
        "#include <cuda.h>\n",
        "\n",
        "__global__ void maxReduce(int* input) {\n",
        "    __shared__ int sdata[8]; // Shared memory for storing thread-local values\n",
        "\n",
        "    int tid = threadIdx.x;\n",
        "    sdata[tid] = input[tid];  // Copy data to shared memory\n",
        "    __syncthreads();  // Synchronize threads to make sure all data is copied\n",
        "\n",
        "    // Print initial values (for debugging)\n",
        "    printf(\"Thread %d initial value: %d\\n\", tid, sdata[tid]);\n",
        "\n",
        "    // Perform reduction in shared memory\n",
        "    for (int s = blockDim.x / 2; s > 0; s >>= 1) {\n",
        "        if (tid < s) {\n",
        "            // Compare and store the maximum value\n",
        "            sdata[tid] = max(sdata[tid], sdata[tid + s]);\n",
        "            printf(\"Thread %d comparing %d and %d, new value: %d\\n\", tid, sdata[tid], sdata[tid + s], sdata[tid]);\n",
        "        }\n",
        "        __syncthreads();  // Synchronize again to ensure all threads update the shared memory\n",
        "    }\n",
        "\n",
        "    // Write the result back to the original input array at the first index\n",
        "    if (tid == 0) {\n",
        "        input[0] = sdata[0];\n",
        "        printf(\"Thread %d writing max value: %d\\n\", tid, sdata[0]);\n",
        "    }\n",
        "}\n",
        "\n",
        "int main() {\n",
        "    const int count = 8;\n",
        "    const int size = count * sizeof(int);\n",
        "    int h[count] = {13, 65, 15, 14, 33, 2, 30, 8};\n",
        "\n",
        "    int* d;\n",
        "    cudaMalloc(&d, size);  // Allocate memory on the device\n",
        "    cudaMemcpy(d, h, size, cudaMemcpyHostToDevice);  // Copy data to the device\n",
        "\n",
        "    // Launch kernel with 8 threads in a single block\n",
        "    maxReduce<<<1, count>>>(d);\n",
        "\n",
        "    int result;\n",
        "    cudaMemcpy(&result, d, sizeof(int), cudaMemcpyDeviceToHost);  // Copy result from device to host\n",
        "    printf(\"Largest number is: %d\\n\", result);  // Print the result\n",
        "\n",
        "    cudaFree(d);  // Free the allocated memory on the device\n",
        "    return 0;\n",
        "}\n",
        "\n",
        "\n",
        "'''\n",
        "\n",
        "with open('max_reduce.cu', 'w') as f:\n",
        "    f.write(code)"
      ],
      "metadata": {
        "id": "FWIg984ab6jO"
      },
      "execution_count": null,
      "outputs": []
    },
    {
      "cell_type": "code",
      "source": [
        "!nvcc max_reduce.cu -o max_reduce"
      ],
      "metadata": {
        "id": "nVp_nxG3cZDH"
      },
      "execution_count": null,
      "outputs": []
    },
    {
      "cell_type": "code",
      "source": [
        "!./max_reduce"
      ],
      "metadata": {
        "colab": {
          "base_uri": "https://localhost:8080/"
        },
        "id": "L82vh4cDcbhz",
        "outputId": "1e4f8d38-6ea8-4815-e830-6953b43a9df6"
      },
      "execution_count": null,
      "outputs": [
        {
          "output_type": "stream",
          "name": "stdout",
          "text": [
            "Largest number is: 13\n"
          ]
        }
      ]
    },
    {
      "cell_type": "code",
      "source": [],
      "metadata": {
        "id": "LHv9ARR1ce5y"
      },
      "execution_count": null,
      "outputs": []
    }
  ]
}