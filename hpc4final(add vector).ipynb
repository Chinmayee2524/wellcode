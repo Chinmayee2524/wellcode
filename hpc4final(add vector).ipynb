{
  "nbformat": 4,
  "nbformat_minor": 0,
  "metadata": {
    "colab": {
      "provenance": [],
      "gpuType": "T4"
    },
    "kernelspec": {
      "name": "python3",
      "display_name": "Python 3"
    },
    "language_info": {
      "name": "python"
    },
    "accelerator": "GPU"
  },
  "cells": [
    {
      "cell_type": "code",
      "execution_count": 1,
      "metadata": {
        "colab": {
          "base_uri": "https://localhost:8080/"
        },
        "id": "ZCNMHf05TDxP",
        "outputId": "efff68c8-dc49-40f3-f121-9c07f3829f83"
      },
      "outputs": [
        {
          "output_type": "stream",
          "name": "stdout",
          "text": [
            "nvcc: NVIDIA (R) Cuda compiler driver\n",
            "Copyright (c) 2005-2024 NVIDIA Corporation\n",
            "Built on Thu_Jun__6_02:18:23_PDT_2024\n",
            "Cuda compilation tools, release 12.5, V12.5.82\n",
            "Build cuda_12.5.r12.5/compiler.34385749_0\n"
          ]
        }
      ],
      "source": [
        "!nvcc --version"
      ]
    },
    {
      "cell_type": "code",
      "source": [
        "import torch\n",
        "torch.cuda.is_available()"
      ],
      "metadata": {
        "colab": {
          "base_uri": "https://localhost:8080/"
        },
        "id": "93D4XNtuTsA6",
        "outputId": "60488432-e120-44b6-c80a-9474491f3fe6"
      },
      "execution_count": 2,
      "outputs": [
        {
          "output_type": "execute_result",
          "data": {
            "text/plain": [
              "True"
            ]
          },
          "metadata": {},
          "execution_count": 2
        }
      ]
    },
    {
      "cell_type": "code",
      "source": [
        "\n",
        "!pip install git+https://github.com/afnan47/cuda.git\n",
        "\n"
      ],
      "metadata": {
        "colab": {
          "base_uri": "https://localhost:8080/"
        },
        "id": "iv9VLBYZU891",
        "outputId": "22f27369-f841-45bc-b2c5-3d7edcd116a3"
      },
      "execution_count": 5,
      "outputs": [
        {
          "output_type": "stream",
          "name": "stdout",
          "text": [
            "Collecting git+https://github.com/afnan47/cuda.git\n",
            "  Cloning https://github.com/afnan47/cuda.git to /tmp/pip-req-build-vohuw3r2\n",
            "  Running command git clone --filter=blob:none --quiet https://github.com/afnan47/cuda.git /tmp/pip-req-build-vohuw3r2\n",
            "  Resolved https://github.com/afnan47/cuda.git to commit aac710a35f52bb78ab34d2e52517237941399eff\n",
            "  Preparing metadata (setup.py) ... \u001b[?25l\u001b[?25hdone\n",
            "Building wheels for collected packages: NVCCPlugin\n",
            "  Building wheel for NVCCPlugin (setup.py) ... \u001b[?25l\u001b[?25hdone\n",
            "  Created wheel for NVCCPlugin: filename=NVCCPlugin-0.0.2-py3-none-any.whl size=4290 sha256=b57234f492db588cac1c302f5ec40f8b644d5ec8f6c6c8a8c35f8424366ed2bb\n",
            "  Stored in directory: /tmp/pip-ephem-wheel-cache-pygr5cps/wheels/bc/4e/e0/2d86bd15f671dbeb32144013f1159dba09757fde36dc51a963\n",
            "Successfully built NVCCPlugin\n",
            "Installing collected packages: NVCCPlugin\n",
            "Successfully installed NVCCPlugin-0.0.2\n"
          ]
        }
      ]
    },
    {
      "cell_type": "code",
      "source": [
        "# Step 2: Write the CUDA code to a file\n",
        "cuda_code = r\"\"\"\n",
        "#include <stdio.h>\n",
        "#include <cuda.h>\n",
        "#include <cuda_runtime.h>\n",
        "#include <stdlib.h>\n",
        "\n",
        "#define N 500\n",
        "\n",
        "__global__ void add(int *a, int *b, int *c) {\n",
        "    int tid = threadIdx.x;\n",
        "    if (tid < N) {\n",
        "        c[tid] = a[tid] + b[tid];\n",
        "    }\n",
        "}\n",
        "\n",
        "int main(void) {\n",
        "    int a[N], b[N], c[N];\n",
        "    int *dev_a, *dev_b, *dev_c;\n",
        "\n",
        "    cudaError_t err = cudaSuccess;\n",
        "\n",
        "    err = cudaMalloc((void**)&dev_a, N * sizeof(int));\n",
        "    if (err != cudaSuccess) {\n",
        "        printf(\"Failed to allocate on device\\n\");\n",
        "        printf(\"Error is: %s\\n\", cudaGetErrorString(err));\n",
        "        exit(EXIT_FAILURE);\n",
        "    }\n",
        "\n",
        "    cudaMalloc((void**)&dev_b, N * sizeof(int));\n",
        "    cudaMalloc((void**)&dev_c, N * sizeof(int));\n",
        "\n",
        "    for (int i = 0; i < N; i++) {\n",
        "        a[i] = i;\n",
        "        b[i] = i * i;\n",
        "        c[i] = 0;\n",
        "    }\n",
        "\n",
        "    cudaEvent_t start, end;\n",
        "    cudaEventCreate(&start);\n",
        "    cudaEventCreate(&end);\n",
        "    cudaEventRecord(start);\n",
        "\n",
        "    cudaMemcpy(dev_a, a, N * sizeof(int), cudaMemcpyHostToDevice);\n",
        "    cudaMemcpy(dev_b, b, N * sizeof(int), cudaMemcpyHostToDevice);\n",
        "    cudaMemcpy(dev_c, c, N * sizeof(int), cudaMemcpyHostToDevice);\n",
        "\n",
        "    add<<<1, N>>>(dev_a, dev_b, dev_c);\n",
        "\n",
        "    err = cudaMemcpy(c, dev_c, N * sizeof(int), cudaMemcpyDeviceToHost);\n",
        "    if (err != cudaSuccess) {\n",
        "        printf(\"Failed to copy from device\\n\");\n",
        "        exit(EXIT_FAILURE);\n",
        "    }\n",
        "\n",
        "    cudaEventRecord(end);\n",
        "    cudaEventSynchronize(end);\n",
        "    float time = 0;\n",
        "    cudaEventElapsedTime(&time, start, end);\n",
        "    printf(\"Name: Chinmayee Bondgulwar BACO21157\\n\");\n",
        "    printf(\" \");\n",
        "\n",
        "    printf(\"Execution time = %f ms\\n\", time);\n",
        "\n",
        "    // Print a few sample results\n",
        "    for (int i = 0; i < 10; i++) {\n",
        "        printf(\"%d + %d = %d\\n\", a[i], b[i], c[i]);\n",
        "    }\n",
        "\n",
        "    cudaFree(dev_a);\n",
        "    cudaFree(dev_b);\n",
        "    cudaFree(dev_c);\n",
        "\n",
        "    return 0;\n",
        "}\n",
        "\"\"\"\n",
        "\n",
        "with open('add_vectors.cu', 'w') as f:\n",
        "    f.write(cuda_code)\n",
        "\n"
      ],
      "metadata": {
        "id": "CPfODrtQVFbA"
      },
      "execution_count": 11,
      "outputs": []
    },
    {
      "cell_type": "code",
      "source": [
        "# Step 3: Compile and run\n",
        "!nvcc -o add_vectors add_vectors.cu\n"
      ],
      "metadata": {
        "id": "KFyaNKOpVJWz"
      },
      "execution_count": 12,
      "outputs": []
    },
    {
      "cell_type": "code",
      "source": [
        "!./add_vectors"
      ],
      "metadata": {
        "colab": {
          "base_uri": "https://localhost:8080/"
        },
        "id": "4jev7NPzVLzQ",
        "outputId": "12998d4b-da8a-4a7e-a114-ab551f00e70a"
      },
      "execution_count": 13,
      "outputs": [
        {
          "output_type": "stream",
          "name": "stdout",
          "text": [
            "Name: Chinmayee Bondgulwar BACO21157\n",
            " Execution time = 8.147104 ms\n",
            "0 + 0 = 0\n",
            "1 + 1 = 0\n",
            "2 + 4 = 0\n",
            "3 + 9 = 0\n",
            "4 + 16 = 0\n",
            "5 + 25 = 0\n",
            "6 + 36 = 0\n",
            "7 + 49 = 0\n",
            "8 + 64 = 0\n",
            "9 + 81 = 0\n"
          ]
        }
      ]
    }
  ]
}